{
 "cells": [
  {
   "cell_type": "markdown",
   "metadata": {},
   "source": [
    "## 第一題 [myknn_regressor]"
   ]
  },
  {
   "cell_type": "markdown",
   "metadata": {
    "ExecuteTime": {
     "end_time": "2020-10-01T10:33:14.574475Z",
     "start_time": "2020-10-01T10:33:14.571284Z"
    }
   },
   "source": [
    "#### Q1.1"
   ]
  },
  {
   "cell_type": "code",
   "execution_count": 16,
   "metadata": {
    "ExecuteTime": {
     "end_time": "2020-10-01T11:44:10.396686Z",
     "start_time": "2020-10-01T11:44:10.382182Z"
    }
   },
   "outputs": [],
   "source": [
    "import numpy as np\n",
    "\n",
    "class myknn_regressor():\n",
    "    def __init__(self, n_neighbors = 10, mean_type = \"equal_weight\"):\n",
    "        \"\"\"mean_type can be equal_weight or remove_outliers.\n",
    "                              equal_weight use the same weight for all neighbors.\n",
    "                              remove_outliers remove neighbors out in [Q1 - 1.5 IQR, Q3 - 1.5IQR].  This is how box plot  detect outliers\"\"\"\n",
    "        self.k = n_neighbors\n",
    "        self.mean_type = mean_type        \n",
    "\n",
    "    def fit(self, x_train, y_train):\n",
    "        self.x_train = x_train\n",
    "        self.y_train = y_train\n",
    "\n",
    "    def predict(self, x_test):\n",
    "        \"\"\"use remove_outliers only if k>=10\"\"\"\n",
    "        ypred = []\n",
    "        for idx in range(x_test.shape[0]): \n",
    "            dist = self.x_train - x_test[idx]\n",
    "            mse = np.sum(dist ** 2, axis = 1)\n",
    "            \n",
    "            pred = self.y_train[np.argsort(mse)[:self.k]]\n",
    "\n",
    "            if (self.mean_type == \"equal_weight\") or self.k < 10:\n",
    "                res = pred.mean()\n",
    "            else:\n",
    "                q1 = np.quantile(pred, 0.25)\n",
    "                q3 = np.quantile(pred, 0.75)\n",
    "                iqr = q3 - q1\n",
    "                lower = q1 - 1.5 * iqr\n",
    "                upper = q3 + 1.5 * iqr\n",
    "                pred = pred[(pred >= lower) & (pred <= upper)]\n",
    "                res = pred.mean()\n",
    "\n",
    "            ypred.append(res)\n",
    "        return(np.array(ypred))"
   ]
  },
  {
   "cell_type": "markdown",
   "metadata": {},
   "source": [
    "#### Q1.2"
   ]
  },
  {
   "cell_type": "code",
   "execution_count": 18,
   "metadata": {
    "ExecuteTime": {
     "end_time": "2020-10-01T11:47:40.886360Z",
     "start_time": "2020-10-01T11:47:37.336575Z"
    }
   },
   "outputs": [
    {
     "name": "stdout",
     "output_type": "stream",
     "text": [
      "RMSE =  10.25126451549596\n",
      "The first 20 predictions are:\n",
      " [1993.35 1993.8  2000.65 1991.5  1992.8  1998.5  1988.1  1991.65 2002.25\n",
      " 2003.   2000.5  1998.65 1995.55 1997.2  1995.05 1997.4  1992.15 2000.45\n",
      " 2003.2  1995.75]\n"
     ]
    }
   ],
   "source": [
    "import pickle\n",
    "from sklearn import preprocessing\n",
    "import numpy as np\n",
    "\n",
    "#Load data\n",
    "with open('msd_data1.pickle', 'rb') as fh1:\n",
    "    msd_data = pickle.load(fh1)\n",
    "\n",
    "doscaling = 1\n",
    "\n",
    "if (doscaling == 1):\n",
    "    xscaler = preprocessing.StandardScaler().fit(msd_data['X_train'])\n",
    "    #standardize feature values\n",
    "    X_train = xscaler.transform(msd_data['X_train'])\n",
    "    X_test = xscaler.transform(msd_data['X_test'])\n",
    "else:\n",
    "    X_train = msd_data['X_train']\n",
    "    X_test = msd_data['X_test']\n",
    "\n",
    "Y_train = msd_data['Y_train']\n",
    "Y_test = msd_data['Y_test']\n",
    "\n",
    "myknn = myknn_regressor(20, \"equal_weight\")\n",
    "myknn.fit(X_train, Y_train)\n",
    "ypred = myknn.predict(X_test)\n",
    "rmse = np.sqrt(np.mean(np.square(Y_test - ypred)))\n",
    "\n",
    "print(\"RMSE = \", rmse)\n",
    "print(\"The first 20 predictions are:\\n\", ypred[0:20])"
   ]
  },
  {
   "cell_type": "markdown",
   "metadata": {},
   "source": [
    "#### Q1.3"
   ]
  },
  {
   "cell_type": "code",
   "execution_count": 19,
   "metadata": {
    "ExecuteTime": {
     "end_time": "2020-10-01T11:48:42.383344Z",
     "start_time": "2020-10-01T11:48:37.836246Z"
    }
   },
   "outputs": [
    {
     "name": "stdout",
     "output_type": "stream",
     "text": [
      "RMSE =  10.212572466080376\n",
      "The first 20 predictions are:\n",
      " [1993.35       1993.8        2000.65       1992.73684211 1992.8\n",
      " 2000.         1988.1        1991.65       2002.25       2003.94736842\n",
      " 2000.5        2000.94444444 1995.55       1997.2        1998.61111111\n",
      " 1997.4        1992.15       2003.83333333 2003.2        1995.75      ]\n"
     ]
    }
   ],
   "source": [
    "myknn = myknn_regressor(20, \"remove_outliers\")\n",
    "myknn.fit(X_train, Y_train)\n",
    "ypred = myknn.predict(X_test)\n",
    "rmse = np.sqrt(np.mean(np.square(Y_test - ypred)))\n",
    "\n",
    "print(\"RMSE = \", rmse)\n",
    "print(\"The first 20 predictions are:\\n\", ypred[0:20])"
   ]
  },
  {
   "cell_type": "markdown",
   "metadata": {},
   "source": [
    "## 第二題 [Tuning the Hyper-parameter]"
   ]
  },
  {
   "cell_type": "code",
   "execution_count": 5,
   "metadata": {},
   "outputs": [
    {
     "data": {
      "image/png": "[encoded data removed]",
      "text/plain": [
       "<Figure size 432x288 with 1 Axes>"
      ]
     },
     "metadata": {
      "needs_background": "light"
     },
     "output_type": "display_data"
    }
   ],
   "source": [
    "%matplotlib inline\n",
    "import numpy as np\n",
    "import pickle\n",
    "import matplotlib.pyplot as plt\n",
    "from sklearn.neighbors import KNeighborsRegressor\n",
    "\n",
    "m = np.mean(X_train, axis = 0)\n",
    "s = np.std(X_train, axis = 0)\n",
    "scaled_xtrain = (X_train - m) / s\n",
    "scaled_xtest = (X_test - m) / s\n",
    "\n",
    "K = [1,2,3,4,5,10,15,20,25,30,35,40,45,50,55,60,80,100,120,140,160,180,200]\n",
    "\n",
    "###############first case\n",
    "\n",
    "RMSE = []\n",
    "for k in K:\n",
    "    knn = KNeighborsRegressor(n_neighbors = k)\n",
    "    knn.fit(scaled_xtrain, Y_train)\n",
    "    ypred = knn.predict(scaled_xtest)\n",
    "\n",
    "    RMSE.append(np.sqrt(np.mean((Y_test - ypred) ** 2)))\n",
    "plt.plot(K, RMSE, color = 'r', label = 'Case 1', linestyle = 'solid', marker = 'o')\n",
    "\n",
    "###############second case\n",
    "RMSE = []\n",
    "for k in K:\n",
    "    knn = KNeighborsRegressor(n_neighbors = k)\n",
    "    knn.fit(X_train, Y_train)\n",
    "    ypred = knn.predict(X_test)\n",
    "\n",
    "    RMSE.append(np.sqrt(np.mean((Y_test - ypred) ** 2)))\n",
    "plt.plot(K, RMSE, color = 'g', label = 'Case 2', linestyle = 'solid', marker = 'o')\n",
    "\n",
    "###############third case\n",
    "RMSE = []\n",
    "for k in K:\n",
    "    myknn = myknn_regressor(k, \"remove_outliers\")\n",
    "    myknn.fit(scaled_xtrain, Y_train)\n",
    "    ypred = myknn.predict(scaled_xtest)\n",
    "\n",
    "    RMSE.append(np.sqrt(np.mean((Y_test - ypred) ** 2)))\n",
    "plt.plot(K, RMSE, color = 'b', label = 'Case 3', linestyle = 'solid', marker = 'o')\n",
    "\n",
    "\n",
    "plt.xlabel('k')\n",
    "plt.ylabel('RMSE')\n",
    "plt.legend()\n",
    "plt.show()"
   ]
  },
  {
   "cell_type": "markdown",
   "metadata": {},
   "source": [
    "#### Observation:\n",
    "**由圖可見，基本上就RMSE來說，myknn的表現都是比sklearn的KNeighborsRegressor來得好，應是因為myknn有剔除outliers，以此降低極端值對於data的影響。而case1之所以又比case2好，是因為我們對於資料先進行了標準化以提升精確度。更進一步觀察RMSE，以case3來說，在k=15之前是急劇下降，而後緩慢下降，又以k=55左右降到最低，而後緩慢上升。若單就RMSE來看，k=55似乎是最好的k值。"
   ]
  },
  {
   "cell_type": "markdown",
   "metadata": {},
   "source": [
    "## 第三題 [Lasso Regression]"
   ]
  },
  {
   "cell_type": "markdown",
   "metadata": {},
   "source": [
    "#### Q3.1"
   ]
  },
  {
   "cell_type": "markdown",
   "metadata": {},
   "source": [
    "![text](hw1_3_1.jpg)"
   ]
  },
  {
   "cell_type": "markdown",
   "metadata": {},
   "source": [
    "#### Q3.2"
   ]
  },
  {
   "cell_type": "code",
   "execution_count": 5,
   "metadata": {
    "ExecuteTime": {
     "end_time": "2020-10-07T20:07:46.796443Z",
     "start_time": "2020-10-07T20:07:46.769918Z"
    }
   },
   "outputs": [],
   "source": [
    "import numpy as np\n",
    "\n",
    "class mylasso():\n",
    "    def __init__(self, lamcoef = 0.1, max_iter=1000, tol=1e-6, const_regu = False):\n",
    "        self.lamcoef = lamcoef\n",
    "        self.max_iter = max_iter\n",
    "        self.tol = tol\n",
    "        self.const_regu = False\n",
    "        self.train_loss = 0\n",
    "\n",
    "    def fit(self, x_train, y_train, winit = \"ridge\", keep_traindata = True, verbose = False):\n",
    "        self.x_train = np.concatenate((x_train, np.ones((x_train.shape[0], 1))), 1)\n",
    "        self.y_train = y_train\n",
    "        num = [x_train.shape[0], x_train.shape[1], x_train.shape[1]+1] #0:data_num; 1:feature num; 2:num after adding bias term\n",
    "#         print(\"*\" * 20, num[2])\n",
    "        #initialize w  \n",
    "        x_square = self.x_train.T @ self.x_train\n",
    "#         print(x_square)\n",
    "        for i in range(x_square.shape[0]):\n",
    "            x_square[i][i] = x_square[i][i] + self.lamcoef * num[0]\n",
    "#         print(index)\n",
    "        w = np.linalg.inv(x_square) @ self.x_train.T @ self.y_train\n",
    "#         print(w)\n",
    "        \n",
    "        best_loss = 100000000\n",
    "        last_loss = best_loss\n",
    "        best_w = np.zeros((num[2]))\n",
    "        \n",
    "        for i in range(self.max_iter):            \n",
    "            for j in range(num[2]):\n",
    "                idx = [i for i in range(num[2]) if i!=j] \n",
    "                wj_star = np.sum((self.y_train - (self.x_train[:, idx] @ w[idx])) * self.x_train[:,j]) / np.sum(self.x_train[:,j] ** 2)\n",
    "#                 print(wj_star)\n",
    "                wj_new = wj_star\n",
    "                d = self.lamcoef * num[0]  / np.sum(self.x_train[:,j] ** 2)\n",
    "                \n",
    "                if j < num[1] or (j == (num[1]) and self.const_regu == False):\n",
    "                    if wj_star - d > 0:\n",
    "                        wj_new = wj_star - d\n",
    "                    elif wj_star + d < 0:\n",
    "                        wj_new = wj_star + d\n",
    "                    else:\n",
    "                        wj_new = 0.0\n",
    "                w[j] = wj_new\n",
    "#             assert(False)\n",
    "            pred = self.x_train @ w\n",
    "            loss = 0.5 * (((self.y_train - pred)**2).mean()) + self.lamcoef * np.sum(abs(w))\n",
    "#             print(loss)\n",
    "            \n",
    "            if best_loss > loss:\n",
    "                best_loss = loss\n",
    "                best_w = w\n",
    "                    \n",
    "            if abs(last_loss - loss) < self.tol:\n",
    "                self.weight = best_w                \n",
    "                self.coef_ = best_w[:-1]\n",
    "                self.intercept_ = best_w[-1]\n",
    "                self.train_loss = best_loss\n",
    "                break\n",
    "                \n",
    "            last_loss = loss\n",
    "        \n",
    "        if keep_traindata == False:\n",
    "            del self.x_train\n",
    "            del self.y_train\n",
    "            \n",
    "    def predict(self, x_test):\n",
    "        add_x_test = np.concatenate((x_test, np.ones((x_test.shape[0], 1))), 1)\n",
    "        return add_x_test @ self.weight\n",
    "        "
   ]
  },
  {
   "cell_type": "markdown",
   "metadata": {},
   "source": [
    "#### Q3.3"
   ]
  },
  {
   "cell_type": "code",
   "execution_count": 12,
   "metadata": {
    "ExecuteTime": {
     "end_time": "2020-10-07T20:10:47.149671Z",
     "start_time": "2020-10-07T20:10:41.457427Z"
    }
   },
   "outputs": [
    {
     "name": "stdout",
     "output_type": "stream",
     "text": [
      "Training loss: 249.71000390933378\n",
      "\n",
      "\n",
      "Training RMSE: 9.720218859559226\n",
      "\n",
      "\n",
      "Training MAE: 7.004042396846557\n",
      "\n",
      "\n",
      "Intercept:  1998.1660000000002\n",
      "\n",
      "\n",
      "Feature weights: [ 4.65134347 -2.45779178 -1.06476309  0.         -0.34181357 -2.94500832\n",
      "  0.         -0.39954223 -0.4263976   0.         -0.23519769 -0.39519543\n",
      "  0.50442538  0.         -0.33734152  0.61077412  0.15734524  0.42529548\n",
      "  0.43505058  1.12723149  0.40668494  0.          1.78186707  0.\n",
      " -0.1683647   0.07849856  0.66009984  0.01202792  0.15449625  0.\n",
      " -0.21787825 -0.2217945   0.         -0.00249707 -0.01755465 -0.26178941\n",
      "  0.          0.29018409  0.34854301  0.         -0.26109129 -0.14423235\n",
      " -0.01040839  0.03522261 -0.03989073  0.          0.00319364 -0.17679486\n",
      "  0.          0.06468757  0.27153098  0.          0.          0.\n",
      "  0.          0.         -0.63658183  0.2386218  -0.18962539  0.\n",
      " -0.18889307  0.         -0.13595832  0.0611913  -0.26622051  0.\n",
      "  0.          0.         -0.03143042  0.         -0.19345723  0.01235967\n",
      "  0.2071979   0.25127831  0.1223868   0.          0.         -0.52919511\n",
      "  0.          0.          0.17819044  0.02429392  0.2536892   0.19436096\n",
      "  0.37086449  0.          0.         -0.29111938  0.          0.        ]\n",
      "\n",
      "\n",
      "Number of nonzero weights: 59\n"
     ]
    }
   ],
   "source": [
    "#load the dataset, and create normalized and raw features. \n",
    "import pickle\n",
    "from sklearn import preprocessing\n",
    "import numpy as np\n",
    "np.set_printoptions(suppress=True)\n",
    "\n",
    "#Load data\n",
    "with open('msd_data1.pickle', 'rb') as fh1:\n",
    "    msd_data = pickle.load(fh1)\n",
    "\n",
    "xscaler = preprocessing.StandardScaler().fit(msd_data['X_train'])\n",
    "#standardize feature values\n",
    "X_train_sd = xscaler.transform(msd_data['X_train'])\n",
    "X_test_sd = xscaler.transform(msd_data['X_test'])\n",
    "\n",
    "#outcome values\n",
    "Y_train = msd_data['Y_train']\n",
    "Y_test = msd_data['Y_test']\n",
    "\n",
    "model = mylasso()\n",
    "model.fit(X_train_sd, Y_train)\n",
    "ypred_train = model.predict(X_train_sd)\n",
    "\n",
    "print(\"Training loss:\", model.train_loss)\n",
    "print('\\n')\n",
    "print(\"Training RMSE:\", (((Y_train - ypred_train) ** 2).mean()) ** 0.5)\n",
    "print('\\n')\n",
    "print(\"Training MAE:\", abs(Y_train - ypred_train).mean())\n",
    "print('\\n')\n",
    "print(\"Intercept: \", model.intercept_)\n",
    "print('\\n')\n",
    "print(\"Feature weights:\", model.coef_)\n",
    "print('\\n')\n",
    "print(\"Number of nonzero weights:\", np.sum(model.coef_ != 0))"
   ]
  },
  {
   "cell_type": "code",
   "execution_count": 7,
   "metadata": {
    "ExecuteTime": {
     "end_time": "2020-10-07T20:07:56.636045Z",
     "start_time": "2020-10-07T20:07:56.627083Z"
    }
   },
   "outputs": [
    {
     "name": "stdout",
     "output_type": "stream",
     "text": [
      "Prediction of first five data  [1991.83431184 1998.97435408 2001.64695845 1991.20534314 1994.32244083]\n",
      "Test RMSE =  9.650110579516506\n",
      "Test MAE =  6.943703467805912\n"
     ]
    }
   ],
   "source": [
    "ypred_test = model.predict(X_test_sd)\n",
    "print(\"Prediction of first five data \", ypred_test[0:5])\n",
    "print(\"Test RMSE = \", (((Y_test - ypred_test) ** 2).mean()) ** 0.5)\n",
    "print(\"Test MAE = \", abs(Y_test - ypred_test).mean())"
   ]
  },
  {
   "cell_type": "code",
   "execution_count": 11,
   "metadata": {
    "ExecuteTime": {
     "end_time": "2020-10-07T20:09:19.146448Z",
     "start_time": "2020-10-07T20:08:55.135813Z"
    }
   },
   "outputs": [
    {
     "data": {
      "text/html": [
       "<div>\n",
       "<style scoped>\n",
       "    .dataframe tbody tr th:only-of-type {\n",
       "        vertical-align: middle;\n",
       "    }\n",
       "\n",
       "    .dataframe tbody tr th {\n",
       "        vertical-align: top;\n",
       "    }\n",
       "\n",
       "    .dataframe thead th {\n",
       "        text-align: right;\n",
       "    }\n",
       "</style>\n",
       "<table border=\"1\" class=\"dataframe\">\n",
       "  <thead>\n",
       "    <tr style=\"text-align: right;\">\n",
       "      <th></th>\n",
       "      <th>lambda</th>\n",
       "      <th>train_loss</th>\n",
       "      <th>num_nonzero</th>\n",
       "      <th>avg_size</th>\n",
       "      <th>training_rmse</th>\n",
       "      <th>test_rmse</th>\n",
       "    </tr>\n",
       "  </thead>\n",
       "  <tbody>\n",
       "    <tr>\n",
       "      <td>0</td>\n",
       "      <td>0.0001</td>\n",
       "      <td>46.770287</td>\n",
       "      <td>90</td>\n",
       "      <td>0.470461</td>\n",
       "      <td>9.650516</td>\n",
       "      <td>9.644318</td>\n",
       "    </tr>\n",
       "    <tr>\n",
       "      <td>1</td>\n",
       "      <td>0.0005</td>\n",
       "      <td>47.586510</td>\n",
       "      <td>90</td>\n",
       "      <td>0.469211</td>\n",
       "      <td>9.650519</td>\n",
       "      <td>9.643936</td>\n",
       "    </tr>\n",
       "    <tr>\n",
       "      <td>2</td>\n",
       "      <td>0.0010</td>\n",
       "      <td>48.606725</td>\n",
       "      <td>90</td>\n",
       "      <td>0.467651</td>\n",
       "      <td>9.650531</td>\n",
       "      <td>9.643452</td>\n",
       "    </tr>\n",
       "    <tr>\n",
       "      <td>3</td>\n",
       "      <td>0.0050</td>\n",
       "      <td>56.765975</td>\n",
       "      <td>88</td>\n",
       "      <td>0.455628</td>\n",
       "      <td>9.650869</td>\n",
       "      <td>9.640304</td>\n",
       "    </tr>\n",
       "    <tr>\n",
       "      <td>4</td>\n",
       "      <td>0.0100</td>\n",
       "      <td>66.959436</td>\n",
       "      <td>87</td>\n",
       "      <td>0.442849</td>\n",
       "      <td>9.651768</td>\n",
       "      <td>9.636844</td>\n",
       "    </tr>\n",
       "    <tr>\n",
       "      <td>5</td>\n",
       "      <td>0.0500</td>\n",
       "      <td>148.329441</td>\n",
       "      <td>76</td>\n",
       "      <td>0.363834</td>\n",
       "      <td>9.672786</td>\n",
       "      <td>9.627032</td>\n",
       "    </tr>\n",
       "    <tr>\n",
       "      <td>6</td>\n",
       "      <td>0.1000</td>\n",
       "      <td>249.710004</td>\n",
       "      <td>59</td>\n",
       "      <td>0.294675</td>\n",
       "      <td>9.720219</td>\n",
       "      <td>9.650111</td>\n",
       "    </tr>\n",
       "    <tr>\n",
       "      <td>7</td>\n",
       "      <td>0.5000</td>\n",
       "      <td>1055.383688</td>\n",
       "      <td>16</td>\n",
       "      <td>0.120022</td>\n",
       "      <td>10.109371</td>\n",
       "      <td>10.021225</td>\n",
       "    </tr>\n",
       "    <tr>\n",
       "      <td>8</td>\n",
       "      <td>1.0000</td>\n",
       "      <td>2057.655324</td>\n",
       "      <td>4</td>\n",
       "      <td>0.042175</td>\n",
       "      <td>10.638945</td>\n",
       "      <td>10.548062</td>\n",
       "    </tr>\n",
       "    <tr>\n",
       "      <td>9</td>\n",
       "      <td>2.0000</td>\n",
       "      <td>4056.024131</td>\n",
       "      <td>1</td>\n",
       "      <td>0.004266</td>\n",
       "      <td>11.200386</td>\n",
       "      <td>11.141073</td>\n",
       "    </tr>\n",
       "  </tbody>\n",
       "</table>\n",
       "</div>"
      ],
      "text/plain": [
       "   lambda   train_loss  num_nonzero  avg_size  training_rmse  test_rmse\n",
       "0  0.0001    46.770287           90  0.470461       9.650516   9.644318\n",
       "1  0.0005    47.586510           90  0.469211       9.650519   9.643936\n",
       "2  0.0010    48.606725           90  0.467651       9.650531   9.643452\n",
       "3  0.0050    56.765975           88  0.455628       9.650869   9.640304\n",
       "4  0.0100    66.959436           87  0.442849       9.651768   9.636844\n",
       "5  0.0500   148.329441           76  0.363834       9.672786   9.627032\n",
       "6  0.1000   249.710004           59  0.294675       9.720219   9.650111\n",
       "7  0.5000  1055.383688           16  0.120022      10.109371  10.021225\n",
       "8  1.0000  2057.655324            4  0.042175      10.638945  10.548062\n",
       "9  2.0000  4056.024131            1  0.004266      11.200386  11.141073"
      ]
     },
     "execution_count": 11,
     "metadata": {},
     "output_type": "execute_result"
    }
   ],
   "source": [
    "import pandas as pd\n",
    "import matplotlib.pyplot as plt\n",
    "%matplotlib inline\n",
    "\n",
    "lam_list = [0.0001, 0.0005, 0.001, 0.005, 0.01, 0.05, 0.1, 0.5, 1, 2]\n",
    "\n",
    "param = []\n",
    "for lam in lam_list:\n",
    "    model = mylasso(lamcoef = lam)\n",
    "    model.fit(X_train_sd, Y_train)\n",
    "    ypred_train = model.predict(X_train_sd)\n",
    "    rmse_train = (((Y_train -  ypred_train) ** 2).mean()) ** 0.5\n",
    "    ypred_test = model.predict(X_test_sd)\n",
    "    rmse_test = (((Y_test - ypred_test) ** 2).mean()) ** 0.5    \n",
    "    param.append({'lambda': lam, 'train_loss': model.train_loss, 'num_nonzero':  np.sum(model.coef_ != 0), 'avg_size': abs(model.coef_).mean(), 'training_rmse': rmse_train, 'test_rmse': rmse_test})\n",
    "    \n",
    "df = pd.DataFrame(param)\n",
    "df"
   ]
  },
  {
   "cell_type": "code",
   "execution_count": 40,
   "metadata": {
    "ExecuteTime": {
     "end_time": "2020-10-01T13:45:30.165854Z",
     "start_time": "2020-10-01T13:45:29.983389Z"
    }
   },
   "outputs": [
    {
     "data": {
      "text/plain": [
       "<matplotlib.axes._subplots.AxesSubplot at 0x1a26890c10>"
      ]
     },
     "execution_count": 40,
     "metadata": {},
     "output_type": "execute_result"
    },
    {
     "data": {
      "image/png": "[encoded data removed]",
      "text/plain": [
       "<Figure size 432x288 with 1 Axes>"
      ]
     },
     "metadata": {
      "needs_background": "light"
     },
     "output_type": "display_data"
    }
   ],
   "source": [
    "df.plot(x = 'lambda', y ='train_loss', title = 'Training Loss')"
   ]
  },
  {
   "cell_type": "code",
   "execution_count": 36,
   "metadata": {
    "ExecuteTime": {
     "end_time": "2020-10-01T13:38:24.761487Z",
     "start_time": "2020-10-01T13:38:24.321333Z"
    }
   },
   "outputs": [
    {
     "data": {
      "text/plain": [
       "<matplotlib.axes._subplots.AxesSubplot at 0x1a2c0b9b90>"
      ]
     },
     "execution_count": 36,
     "metadata": {},
     "output_type": "execute_result"
    },
    {
     "data": {
      "image/png": "[encoded data removed]",
      "text/plain": [
       "<Figure size 432x288 with 1 Axes>"
      ]
     },
     "metadata": {
      "needs_background": "light"
     },
     "output_type": "display_data"
    }
   ],
   "source": [
    "df.plot(x = 'lambda', y ='num_nonzero', title = 'Number of Nonzero Weights')"
   ]
  },
  {
   "cell_type": "code",
   "execution_count": 37,
   "metadata": {
    "ExecuteTime": {
     "end_time": "2020-10-01T13:38:55.071982Z",
     "start_time": "2020-10-01T13:38:54.891927Z"
    }
   },
   "outputs": [
    {
     "data": {
      "text/plain": [
       "<matplotlib.axes._subplots.AxesSubplot at 0x1a2bd9d110>"
      ]
     },
     "execution_count": 37,
     "metadata": {},
     "output_type": "execute_result"
    },
    {
     "data": {
      "image/png": "[encoded data removed]",
      "text/plain": [
       "<Figure size 432x288 with 1 Axes>"
      ]
     },
     "metadata": {
      "needs_background": "light"
     },
     "output_type": "display_data"
    }
   ],
   "source": [
    "df.plot(x = 'lambda', y ='avg_size', title = \"Average Size of w\")"
   ]
  },
  {
   "cell_type": "code",
   "execution_count": 38,
   "metadata": {
    "ExecuteTime": {
     "end_time": "2020-10-01T13:39:34.344360Z",
     "start_time": "2020-10-01T13:39:34.142225Z"
    }
   },
   "outputs": [
    {
     "data": {
      "text/plain": [
       "<matplotlib.axes._subplots.AxesSubplot at 0x1a2b7f0110>"
      ]
     },
     "execution_count": 38,
     "metadata": {},
     "output_type": "execute_result"
    },
    {
     "data": {
      "image/png": "[encoded data removed]",
      "text/plain": [
       "<Figure size 432x288 with 1 Axes>"
      ]
     },
     "metadata": {
      "needs_background": "light"
     },
     "output_type": "display_data"
    }
   ],
   "source": [
    "df.plot(x = 'lambda', y = 'training_rmse', title = \"Training RMSE\")"
   ]
  },
  {
   "cell_type": "code",
   "execution_count": 39,
   "metadata": {
    "ExecuteTime": {
     "end_time": "2020-10-01T13:39:54.888461Z",
     "start_time": "2020-10-01T13:39:54.690829Z"
    },
    "scrolled": true
   },
   "outputs": [
    {
     "data": {
      "text/plain": [
       "<matplotlib.axes._subplots.AxesSubplot at 0x1a25c9b850>"
      ]
     },
     "execution_count": 39,
     "metadata": {},
     "output_type": "execute_result"
    },
    {
     "data": {
      "image/png": "[encoded data removed]",
      "text/plain": [
       "<Figure size 432x288 with 1 Axes>"
      ]
     },
     "metadata": {
      "needs_background": "light"
     },
     "output_type": "display_data"
    }
   ],
   "source": [
    "df.plot(x = 'lambda', y = 'test_rmse', title = \"Test RMSE\")"
   ]
  },
  {
   "cell_type": "markdown",
   "metadata": {},
   "source": [
    "## Observations:\n",
    "* Training Loss與Training RMSE會隨著Lambda上升而上升，而Number of Nonzero Wegiths與Average Wegith Size則會隨著Lambda上升而下降。\n",
    "* Test RMSE會隨著Lambda上升而先下降再上升。"
   ]
  }
 ],
 "metadata": {
  "kernelspec": {
   "display_name": "Python 3",
   "language": "python",
   "name": "python3"
  },
  "language_info": {
   "codemirror_mode": {
    "name": "ipython",
    "version": 3
   },
   "file_extension": ".py",
   "mimetype": "text/x-python",
   "name": "python",
   "nbconvert_exporter": "python",
   "pygments_lexer": "ipython3",
   "version": "3.7.4"
  },
  "varInspector": {
   "cols": {
    "lenName": 16,
    "lenType": 16,
    "lenVar": 40
   },
   "kernels_config": {
    "python": {
     "delete_cmd_postfix": "",
     "delete_cmd_prefix": "del ",
     "library": "var_list.py",
     "varRefreshCmd": "print(var_dic_list())"
    },
    "r": {
     "delete_cmd_postfix": ") ",
     "delete_cmd_prefix": "rm(",
     "library": "var_list.r",
     "varRefreshCmd": "cat(var_dic_list()) "
    }
   },
   "types_to_exclude": [
    "module",
    "function",
    "builtin_function_or_method",
    "instance",
    "_Feature"
   ],
   "window_display": false
  }
 },
 "nbformat": 4,
 "nbformat_minor": 2
}
