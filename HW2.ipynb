{
 "cells": [
  {
   "cell_type": "markdown",
   "metadata": {},
   "source": [
    "## 第一題"
   ]
  },
  {
   "cell_type": "code",
   "execution_count": 127,
   "metadata": {},
   "outputs": [],
   "source": [
    "%matplotlib inline\n",
    "import pandas\n",
    "import numpy as np\n",
    "import pandas as pd\n",
    "from sklearn.preprocessing import OneHotEncoder, StandardScaler\n",
    "from sklearn.linear_model import LogisticRegression"
   ]
  },
  {
   "cell_type": "code",
   "execution_count": 155,
   "metadata": {},
   "outputs": [],
   "source": [
    "header_list = ['age', 'workclass', 'fnlwgt', 'education', 'educational-num','marital-status', 'occupation', 'relationship', 'race', 'gender','capital-gain', 'capital-loss', 'hours-per-week', 'native-country', 'income']\n",
    "train_raw = pd.read_csv(\"adult.data\", header = None, names = header_list, na_values=[' ?'])\n",
    "test_raw = pd.read_csv(\"adult.test\", header = None, names = header_list, na_values=[' ?'], skiprows = 1)\n",
    "train_raw.dropna(axis = 0, inplace = True, how = \"any\")\n",
    "test_raw.dropna(axis = 0, inplace = True, how = \"any\")"
   ]
  },
  {
   "cell_type": "code",
   "execution_count": 156,
   "metadata": {},
   "outputs": [
    {
     "name": "stderr",
     "output_type": "stream",
     "text": [
      "/opt/anaconda3/lib/python3.7/site-packages/sklearn/preprocessing/data.py:645: DataConversionWarning: Data with input dtype int64 were all converted to float64 by StandardScaler.\n",
      "  return self.partial_fit(X, y)\n",
      "/opt/anaconda3/lib/python3.7/site-packages/sklearn/base.py:464: DataConversionWarning: Data with input dtype int64 were all converted to float64 by StandardScaler.\n",
      "  return self.fit(X, **fit_params).transform(X)\n",
      "/opt/anaconda3/lib/python3.7/site-packages/ipykernel_launcher.py:7: DataConversionWarning: Data with input dtype int64 were all converted to float64 by StandardScaler.\n",
      "  import sys\n"
     ]
    }
   ],
   "source": [
    "y_train = train_raw['income'].apply(lambda x: 1 if x == ' >50K' else 0).values\n",
    "y_test = test_raw['income'].apply(lambda x: 1 if x == ' >50K.' else 0).values\n",
    "\n",
    "num_col = ['capital-loss', 'hours-per-week', 'capital-gain', 'educational-num', 'age', 'fnlwgt']\n",
    "scaler = StandardScaler()\n",
    "train_raw[num_col] = scaler.fit_transform(train_raw[num_col])\n",
    "test_raw[num_col] = scaler.transform(test_raw[num_col])\n",
    "\n",
    "cat_col = ['workclass', 'education', 'marital-status', 'occupation', 'relationship', 'race', 'gender', 'native-country']\n",
    "for i in cat_col:\n",
    "    train_raw[i] = train_raw[i].apply(lambda x: x[1:])\n",
    "    test_raw[i] = test_raw[i].apply(lambda x: x[1:])\n",
    "\n",
    "ohe = OneHotEncoder(categories='auto')\n",
    "feat = ohe.fit_transform(train_raw[cat_col]).toarray()\n",
    "train_cat = pd.DataFrame(feat, columns=ohe.get_feature_names(cat_col))\n",
    "\n",
    "feat = ohe.transform(test_raw[cat_col]).toarray()\n",
    "test_cat = pd.DataFrame(feat, columns=ohe.get_feature_names(cat_col))\n",
    "\n",
    "remove = []\n",
    "for col in train_cat.columns:\n",
    "    if train_cat[col].sum() < 10:\n",
    "        remove.append(col)"
   ]
  },
  {
   "cell_type": "code",
   "execution_count": 157,
   "metadata": {},
   "outputs": [],
   "source": [
    "order = ['relationship_Husband',\n",
    "        'relationship_Not-in-family', 'relationship_Other-relative',\n",
    "        'relationship_Own-child', 'relationship_Unmarried',\n",
    "        'relationship_Wife', 'race_Amer-Indian-Eskimo',\n",
    "        'race_Asian-Pac-Islander', 'race_Black', 'race_Other',\n",
    "        'race_White', 'gender_Female', 'gender_Male',\n",
    "        'occupation_Adm-clerical', 'occupation_Craft-repair',\n",
    "        'occupation_Exec-managerial', 'occupation_Farming-fishing',\n",
    "        'occupation_Handlers-cleaners', 'occupation_Machine-op-inspct',\n",
    "        'occupation_Other-service', 'occupation_Priv-house-serv',\n",
    "        'occupation_Prof-specialty', 'occupation_Protective-serv',\n",
    "        'occupation_Sales', 'occupation_Tech-support',\n",
    "        'occupation_Transport-moving', 'education_10th', 'education_11th',\n",
    "        'education_12th', 'education_1st-4th', 'education_5th-6th',\n",
    "        'education_7th-8th', 'education_9th', 'education_Assoc-acdm',\n",
    "        'education_Assoc-voc', 'education_Bachelors',\n",
    "        'education_Doctorate', 'education_HS-grad', 'education_Masters',\n",
    "        'education_Preschool', 'education_Prof-school',\n",
    "        'education_Some-college', 'native-country_Cambodia',\n",
    "        'native-country_Canada', 'native-country_China',\n",
    "        'native-country_Columbia', 'native-country_Cuba',\n",
    "        'native-country_Dominican-Republic', 'native-country_Ecuador',\n",
    "        'native-country_El-Salvador', 'native-country_England',\n",
    "        'native-country_France', 'native-country_Germany',\n",
    "        'native-country_Greece', 'native-country_Guatemala',\n",
    "        'native-country_Haiti', 'native-country_Honduras',\n",
    "        'native-country_Hong', 'native-country_Hungary',\n",
    "        'native-country_India', 'native-country_Iran',\n",
    "        'native-country_Ireland', 'native-country_Italy',\n",
    "        'native-country_Jamaica', 'native-country_Japan',\n",
    "        'native-country_Laos', 'native-country_Mexico',\n",
    "        'native-country_Nicaragua',\n",
    "        'native-country_Outlying-US(Guam-USVI-etc)', 'native-country_Peru',\n",
    "        'native-country_Philippines', 'native-country_Poland',\n",
    "        'native-country_Portugal', 'native-country_Puerto-Rico',\n",
    "        'native-country_Scotland', 'native-country_South',\n",
    "        'native-country_Taiwan', 'native-country_Thailand',\n",
    "        'native-country_Trinadad&Tobago', 'native-country_United-States',\n",
    "        'native-country_Vietnam', 'native-country_Yugoslavia',\n",
    "        'workclass_Federal-gov', 'workclass_Local-gov',\n",
    "        'workclass_Private', 'workclass_Self-emp-inc',\n",
    "        'workclass_Self-emp-not-inc', 'workclass_State-gov',\n",
    "        'workclass_Without-pay', 'marital-status_Divorced',\n",
    "        'marital-status_Married-AF-spouse',\n",
    "        'marital-status_Married-civ-spouse',\n",
    "        'marital-status_Married-spouse-absent',\n",
    "        'marital-status_Never-married', 'marital-status_Separated',\n",
    "        'marital-status_Widowed']"
   ]
  },
  {
   "cell_type": "code",
   "execution_count": 158,
   "metadata": {},
   "outputs": [],
   "source": [
    "train = np.hstack((train_raw[num_col].values, train_cat[order]))\n",
    "test = np.hstack((test_raw[num_col].values, test_cat[order]))\n",
    "adult50k = {'x_train':train, 'x_test':test, 'y_train':y_train, 'y_test':y_test}"
   ]
  },
  {
   "cell_type": "code",
   "execution_count": 159,
   "metadata": {},
   "outputs": [
    {
     "name": "stdout",
     "output_type": "stream",
     "text": [
      "x_train match!\n",
      "x_test match!\n",
      "y_train match!\n",
      "y_test match!\n"
     ]
    }
   ],
   "source": [
    "import pickle\n",
    "dsfile = 'adult_m50k.pickle'\n",
    "with open(dsfile, 'rb') as fh1:\n",
    "    adult50kp = pickle.load(fh1)\n",
    "    \n",
    "    \n",
    "elems = ['x_train', 'x_test', 'y_train', 'y_test']\n",
    "\n",
    "for aelem in elems:\n",
    "    cnomatch = np.sum(adult50kp[aelem] != adult50k[aelem])\n",
    "    if cnomatch == 0:\n",
    "        print(aelem, \"match!\")\n",
    "    else:\n",
    "        print(aelem, \"%d elements no match!\" % cnomatch)"
   ]
  },
  {
   "cell_type": "markdown",
   "metadata": {},
   "source": [
    "## 第二題"
   ]
  },
  {
   "cell_type": "markdown",
   "metadata": {},
   "source": [
    "#### Q2.1"
   ]
  },
  {
   "cell_type": "code",
   "execution_count": 17,
   "metadata": {},
   "outputs": [
    {
     "name": "stdout",
     "output_type": "stream",
     "text": [
      "Accuracy = 0.848406\n"
     ]
    }
   ],
   "source": [
    "import pickle\n",
    "from sklearn.linear_model import LogisticRegression\n",
    "import numpy as np\n",
    "import matplotlib.pyplot as plt\n",
    "%matplotlib inline\n",
    "\n",
    "# load dataset\n",
    "dsfile = 'adult_m50k.pickle'\n",
    "with open(dsfile, 'rb') as fh1:\n",
    "    adult50kp = pickle.load(fh1)\n",
    "    \n",
    "#train prediction model    \n",
    "c = 0.3\n",
    "lr2 = LogisticRegression(solver = 'lbfgs', C= c, max_iter = 1000)\n",
    "lr2.fit(adult50kp['x_train'], adult50kp['y_train'])\n",
    "#make prediction\n",
    "ypred = lr2.predict(adult50kp['x_test'])\n",
    "ypredprob = lr2.predict_proba(adult50kp['x_test'])\n",
    "#compute accuracy\n",
    "ncorrect = np.sum(adult50kp['y_test'] == ypred)\n",
    "accuracy_sk = ncorrect / adult50kp['y_test'].shape[0]\n",
    "print(\"Accuracy = %f\" % accuracy_sk) "
   ]
  },
  {
   "cell_type": "code",
   "execution_count": 160,
   "metadata": {},
   "outputs": [],
   "source": [
    "df = pd.DataFrame({'true': adult50kp['y_test'], 'ypred': ypredprob[:,1]})"
   ]
  },
  {
   "cell_type": "code",
   "execution_count": 161,
   "metadata": {},
   "outputs": [],
   "source": [
    "roc = []\n",
    "roc.append({'fp_rate': 0.0, 'tp_rate': 0.0})\n",
    "\n",
    "for i in df.ypred.unique():    \n",
    "    df['ypredpos'] = (df.ypred >= i).astype('float')\n",
    "    tp = np.sum(df['true'] * df['ypredpos'])\n",
    "    tn = np.sum((1 - df['true']) * (1 - df['ypredpos']))\n",
    "    fp = np.sum((1 - df['true']) * df['ypredpos'])\n",
    "    fn = np.sum(df['true'] * (1 - df['ypredpos']))\n",
    "    \n",
    "    tp_rate = tp / (tp + fn)\n",
    "    fp_rate = fp / (fp + tn)\n",
    "    roc.append({'fp_rate': fp_rate, 'tp_rate': tp_rate})\n",
    "    \n",
    "roc.append({'fp_rate': 1.0, 'tp_rate': 1.0})"
   ]
  },
  {
   "cell_type": "code",
   "execution_count": 162,
   "metadata": {},
   "outputs": [],
   "source": [
    "roc_df = pd.DataFrame(roc)\n",
    "roc_df.sort_values('fp_rate', inplace = True)"
   ]
  },
  {
   "cell_type": "code",
   "execution_count": 172,
   "metadata": {},
   "outputs": [
    {
     "data": {
      "text/plain": [
       "<matplotlib.axes._subplots.AxesSubplot at 0x1a26b71d90>"
      ]
     },
     "execution_count": 172,
     "metadata": {},
     "output_type": "execute_result"
    },
    {
     "data": {
      "image/png": "[encoded data removed]",
      "text/plain": [
       "<Figure size 600x400 with 1 Axes>"
      ]
     },
     "metadata": {
      "needs_background": "light"
     },
     "output_type": "display_data"
    }
   ],
   "source": [
    "plt.rcParams[\"figure.dpi\"] = 100\n",
    "roc_df.plot(x = \"fp_rate\", y = 'tp_rate', kind = 'line')"
   ]
  },
  {
   "cell_type": "markdown",
   "metadata": {},
   "source": [
    "#### Q2.2"
   ]
  },
  {
   "cell_type": "code",
   "execution_count": 166,
   "metadata": {},
   "outputs": [],
   "source": [
    "roc_df['fp_rate_pre'] = roc_df.fp_rate.shift(1)\n",
    "roc_df['tp_rate_pre'] = roc_df.tp_rate.shift(1)\n",
    "roc_df['base'] = roc_df.fp_rate - roc_df.fp_rate_pre\n",
    "roc_df['height'] = (roc_df.tp_rate + roc_df.tp_rate_pre) / 2\n",
    "roc_df['area'] = roc_df.base * roc_df.height"
   ]
  },
  {
   "cell_type": "code",
   "execution_count": 167,
   "metadata": {},
   "outputs": [
    {
     "name": "stdout",
     "output_type": "stream",
     "text": [
      "AUC =  0.9034904715454891\n"
     ]
    }
   ],
   "source": [
    "print(\"AUC = \", roc_df.area.sum())"
   ]
  },
  {
   "cell_type": "markdown",
   "metadata": {},
   "source": [
    "## 第三題"
   ]
  },
  {
   "cell_type": "markdown",
   "metadata": {},
   "source": [
    "#### Q1.1"
   ]
  },
  {
   "cell_type": "markdown",
   "metadata": {},
   "source": [
    "The gradient of E(w) is: $\\nabla E(w) = \\Lambda w + X^T (y - t)$. \n",
    "\n",
    "The hession of E(w) is $H = X^T R X + \\Lambda$\n",
    "\n",
    "$R$ is a diagonal matrix with $R_{ii} = y_i (1 - y_i)$ and $y_i = \\frac{1}{1 + exp({-w^T x_i})}$. "
   ]
  },
  {
   "cell_type": "markdown",
   "metadata": {},
   "source": [
    "#### Q1.2"
   ]
  },
  {
   "cell_type": "code",
   "execution_count": 44,
   "metadata": {},
   "outputs": [],
   "source": [
    "class mylogistic_l2():\n",
    "    def __init__(self, reg_vec, max_iter = 100, tol = 1e-5, add_intercept = True):\n",
    "        self.reg_vec = reg_vec\n",
    "        self.max_iter = max_iter\n",
    "        self.tol = tol\n",
    "        self.add_intercept = add_intercept\n",
    "        \n",
    "    def __sigmoid(self, z):\n",
    "        return 1 / (1 + np.exp(-z))\n",
    "    \n",
    "    def fit(self, x, y):\n",
    "        if self.add_intercept: x = np.c_[x, np.ones(x.shape[0])]\n",
    "        \n",
    "        #initial w, with ridge regression\n",
    "        inv_xtx = np.linalg.pinv(np.dot(np.transpose(x), x) + np.diag(self.reg_vec))\n",
    "        w = np.dot(inv_xtx, np.dot(np.transpose(x), y))\n",
    "\n",
    "        obj = np.inf\n",
    "        best_w = None\n",
    "        for i in range(self.max_iter):    \n",
    "            y0 = self.__sigmoid(np.dot(x, w))\n",
    "            #gradient\n",
    "            grad = self.reg_vec * w + np.dot(np.transpose(x), y0 - y)\n",
    "            R = np.diag(y0 * (1-y0))\n",
    "            #hession\n",
    "            hess = np.diag(self.reg_vec) + np.dot(np.transpose(x), np.dot(R, x))\n",
    "            \n",
    "            #newton update\n",
    "            w -= np.dot(np.linalg.inv(hess), grad)\n",
    "            y0 = self.__sigmoid(np.dot(x, w))\n",
    "            now = np.sum(np.square(w) * self.reg_vec) * 0.5  - np.sum(y * np.log(y0) + (1-y) * np.log(1-y0))\n",
    "               \n",
    "            if now < obj:\n",
    "                best_w = w\n",
    "\n",
    "            if (obj - now) < self.tol:\n",
    "                self.cnt = i + 1\n",
    "                break\n",
    "            obj = now\n",
    "            self.w = best_w\n",
    "            self.obj_value = obj\n",
    "\n",
    "    def predict(self, x):\n",
    "        if self.add_intercept:\n",
    "            x = np.c_[x, np.ones(x.shape[0])]\n",
    "        ypred = self.__sigmoid(np.dot(x, self.w))\n",
    "        ypred = (ypred >= 0.5).astype('float64')\n",
    "        return(ypred)                "
   ]
  },
  {
   "cell_type": "code",
   "execution_count": 28,
   "metadata": {},
   "outputs": [],
   "source": [
    "from sklearn import metrics\n",
    "def acc(ypred, ytest): return metrics.accuracy_score(ypred, ytest)"
   ]
  },
  {
   "cell_type": "markdown",
   "metadata": {},
   "source": [
    "##### Case 1: lambda = 1 for all coefficients"
   ]
  },
  {
   "cell_type": "code",
   "execution_count": 168,
   "metadata": {},
   "outputs": [
    {
     "name": "stdout",
     "output_type": "stream",
     "text": [
      "accuracy: 0.8480743691899071\n",
      "continuous-valued w =  [0.00063868 0.02902158 0.00031659 0.18580616 0.02485913]\n",
      "binary-valued w =  [-0.50152492  0.74781984 -1.02439618 -0.29266873 -0.6351957 ]\n",
      "constant term =  -3.3337454041891306\n"
     ]
    }
   ],
   "source": [
    "lambda_vec = np.ones(x_train.shape[1] + 1)\n",
    "model = mylogistic_l2(reg_vec = lambda_vec, max_iter = 100, tol = 1e-5, add_intercept = True)\n",
    "model.fit(x_train, y_train)\n",
    "ypred = model.predict(x_test)\n",
    "\n",
    "print(\"accuracy:\", acc(y_test, ypred))\n",
    "print(\"continuous-valued w = \", model.w[0:5])\n",
    "print(\"binary-valued w = \", model.w[10:15])\n",
    "print(\"constant term = \", model.w[-1])"
   ]
  },
  {
   "cell_type": "markdown",
   "metadata": {},
   "source": [
    "##### Case 2: lambda = 1 for all but the intercept, no regularization for intercept term"
   ]
  },
  {
   "cell_type": "code",
   "execution_count": 173,
   "metadata": {},
   "outputs": [
    {
     "name": "stdout",
     "output_type": "stream",
     "text": [
      "accuracy: 0.847808764940239\n",
      "continuous-valued w =  [0.00063965 0.02949145 0.00031702 0.29532492 0.02543368]\n",
      "binary-valued w =  [ 0.07530145  1.28789619 -0.37204838  0.39436062  0.04306939]\n",
      "constant term =  -8.887227775664206\n"
     ]
    }
   ],
   "source": [
    "lambda_vec = np.ones(x_train.shape[1] + 1)\n",
    "lambda_vec[-1] = 0.0\n",
    "model = mylogistic_l2(reg_vec = lambda_vec, max_iter = 100, tol = 1e-5, add_intercept = True)\n",
    "model.fit(x_train, y_train)\n",
    "ypred = model.predict(x_test)\n",
    "\n",
    "print(\"accuracy:\", acc(y_test, ypred))\n",
    "print(\"continuous-valued w = \", model.w[0:5])\n",
    "print(\"binary-valued w = \", model.w[10:15])\n",
    "print(\"constant term = \", model.w[-1])"
   ]
  },
  {
   "cell_type": "markdown",
   "metadata": {},
   "source": [
    "##### Case 3: lambda = 1 for numerical-valued features, lambda = 0.5 for binary-valued features, no regularization for intercept term"
   ]
  },
  {
   "cell_type": "code",
   "execution_count": 35,
   "metadata": {},
   "outputs": [
    {
     "name": "stdout",
     "output_type": "stream",
     "text": [
      "accuracy: 0.84800796812749\n",
      "continuous-valued w =  [0.34995101 0.72781415 0.33261563 0.25677883 2.31859243]\n",
      "binary-valued w =  [-0.07487908  0.00180633 -0.22739145 -0.56278418 -1.06014632]\n",
      "constant term =  -1.0701453793576885\n"
     ]
    }
   ],
   "source": [
    "lambda_vec = np.ones(x_train.shape[1] + 1) \n",
    "lambda_vec[-1] = 0.0\n",
    "lambda_vec[len(cont_var):] = 15\n",
    "model = mylogistic_l2(reg_vec = lambda_vec, max_iter = 1000, tol = 1e-5, add_intercept = True)\n",
    "model.fit(x_train, y_train)\n",
    "ypred = model.predict(x_test)\n",
    "\n",
    "print(\"accuracy:\", acc(ypred, y_test))\n",
    "print(\"continuous-valued w = \", model.w[0:5])\n",
    "print(\"binary-valued w = \", model.w[10:15])\n",
    "print(\"constant term = \", model.w[-1])"
   ]
  },
  {
   "cell_type": "markdown",
   "metadata": {},
   "source": [
    "#### Q1.3"
   ]
  },
  {
   "cell_type": "code",
   "execution_count": 39,
   "metadata": {},
   "outputs": [],
   "source": [
    "from sklearn.model_selection import train_test_split\n",
    "from sklearn import metrics\n",
    "\n",
    "x_subtrain, x_tune, y_subtrain, y_tune = train_test_split(x_train, y_train, test_size = 0.2, random_state = 500)\n",
    "\n",
    "grids = np.logspace(-2, 2, 10)"
   ]
  },
  {
   "cell_type": "code",
   "execution_count": 42,
   "metadata": {},
   "outputs": [
    {
     "name": "stdout",
     "output_type": "stream",
     "text": [
      "Best a1, a2 are  0.5994842503189409\n"
     ]
    }
   ],
   "source": [
    "step_1 = []\n",
    "for i in grids:\n",
    "    lambda_vec = np.ones(x_train.shape[1] + 1) * i\n",
    "    lambda_vec[-1] = 0.0\n",
    "    model = mylogistic_l2(max_iter = 100, tol = 1e-5, add_intercept = True, reg_vec = lambda_vec)\n",
    "    model.fit(x_subtrain, y_subtrain)\n",
    "    ypred = model.predict(x_tune)\n",
    "    step_1.append(acc(y_tune, ypred))\n",
    "\n",
    "a1_star = grids[step_1.index(max(step_1))]\n",
    "print(\"Best a1, a2 are \", a1_star)"
   ]
  },
  {
   "cell_type": "code",
   "execution_count": 174,
   "metadata": {},
   "outputs": [
    {
     "name": "stdout",
     "output_type": "stream",
     "text": [
      "new a2 is 0.01\n"
     ]
    }
   ],
   "source": [
    "#Step 2\n",
    "\n",
    "step_2 = []\n",
    "for i in grids:\n",
    "    lambda_vec = np.ones(x_train.shape[1] + 1) * a1_star\n",
    "    lambda_vec[len(cont_var) : -1] = i\n",
    "    lambda_vec[-1] = 0.0\n",
    "    model = mylogistic_l2(max_iter = 100, tol = 1e-5, add_intercept = True, reg_vec = lambda_vec)\n",
    "    model.fit(x_subtrain, y_subtrain)\n",
    "    ypred = model.predict(x_tune)\n",
    "    step_2.append(acc(y_tune, ypred))\n",
    "    \n",
    "a2_star = grids[step_2.index(max(step_2))]\n",
    "print('new a2 is', a2_star)"
   ]
  },
  {
   "cell_type": "code",
   "execution_count": 175,
   "metadata": {},
   "outputs": [
    {
     "name": "stdout",
     "output_type": "stream",
     "text": [
      "new a1 is 0.5994842503189409\n"
     ]
    }
   ],
   "source": [
    "#step 3\n",
    "\n",
    "step_3 = []\n",
    "for i in grids:\n",
    "    lambda_vec = np.ones(x_train.shape[1] + 1) * a2_star\n",
    "    lambda_vec[0:len(cont_var)] = i \n",
    "    lambda_vec[-1] = 0.0\n",
    "    model = mylogistic_l2(max_iter = 100, tol = 1e-5, add_intercept = True, reg_vec = lambda_vec)\n",
    "    model.fit(x_subtrain, y_subtrain)\n",
    "    ypred = model.predict(x_tune)\n",
    "    step_3.append(acc(y_tune, ypred))\n",
    "    \n",
    "a1_star = grids[step_3.index(max(step_3))]\n",
    "print(\"new a1 is\", a1_star)"
   ]
  },
  {
   "cell_type": "code",
   "execution_count": 176,
   "metadata": {},
   "outputs": [
    {
     "name": "stdout",
     "output_type": "stream",
     "text": [
      "Final best a1 is 0.5994842503189409 best a2 is 0.01\n",
      "accuracy =  0.847808764940239\n"
     ]
    }
   ],
   "source": [
    "#final step\n",
    "\n",
    "lambda_vec = np.ones(x_train.shape[1] + 1) * a2＿star    \n",
    "lambda_vec[0:len(cont_var)] = a1_star\n",
    "lambda_vec[-1] = 0.0\n",
    "model = mylogistic_l2(reg_vec = lambda_vec, max_iter = 100, tol = 1e-5, add_intercept = True)\n",
    "model.fit(x_train, y_train)\n",
    "ypred = model.predict(x_test)\n",
    "\n",
    "print(\"Final best a1 is\", a1_star, \"best a2 is\", a2_star)\n",
    "print(\"accuracy = \", acc(y_test, ypred))"
   ]
  },
  {
   "cell_type": "markdown",
   "metadata": {},
   "source": [
    "#### Q1.4"
   ]
  },
  {
   "cell_type": "code",
   "execution_count": 40,
   "metadata": {},
   "outputs": [
    {
     "name": "stdout",
     "output_type": "stream",
     "text": [
      "Accuracy =  0.8456175298804781\n"
     ]
    }
   ],
   "source": [
    "a = []\n",
    "\n",
    "for i in grids:\n",
    "    log = LogisticRegression(solver = 'lbfgs', C = i, max_iter = 1000)\n",
    "    log.fit(x_subtrain, y_subtrain)\n",
    "    ypred = log.predict(x_tune)\n",
    "    a.append(acc(ypred, y_tune))\n",
    "    \n",
    "log = LogisticRegression(solver = 'lbfgs', C = grids[np.argmax(acc)], max_iter = 1000)\n",
    "log.fit(x_train, y_train)\n",
    "ypred = log.predict(x_test)\n",
    "\n",
    "print(\"Accuracy = \", acc(y_test, ypred))"
   ]
  },
  {
   "cell_type": "code",
   "execution_count": 41,
   "metadata": {},
   "outputs": [
    {
     "data": {
      "text/plain": [
       "array([[ 3.30661570e-01,  6.94465827e-01,  3.34682848e-01,\n",
       "         2.39713877e-01,  1.56066346e+00,  7.37016578e-02,\n",
       "        -7.71439682e-02,  5.89295939e-02, -4.21788191e-02,\n",
       "        -6.77963613e-02,  1.28009902e-01,  2.70708653e-01,\n",
       "        -1.35401885e-01, -1.92220128e-01, -5.61404701e-01,\n",
       "        -2.58625018e-01,  8.76763427e-01, -2.21594451e-01,\n",
       "         6.32474594e-02,  1.06892455e+00, -5.94723017e-02,\n",
       "        -6.31472997e-01, -1.37597703e-01, -8.22142126e-02,\n",
       "         3.23663818e-01, -5.58322619e-02,  4.02955599e-02,\n",
       "         1.74627350e-01, -3.41175353e-01, -1.18250366e-01,\n",
       "        -2.35083992e-02, -2.43074673e-01,  2.42895021e-01,\n",
       "         3.45255190e-02,  3.48503317e-02, -3.32908060e-02,\n",
       "        -5.95511067e-02,  2.99550266e-02, -3.69153386e-02,\n",
       "        -8.33706623e-03, -2.75887870e-02,  3.37426136e-02,\n",
       "         2.53933568e-02,  5.98773360e-02, -2.95466905e-02,\n",
       "        -7.04911609e-03, -4.15550262e-03, -2.81003784e-03,\n",
       "         2.67459891e-03, -2.26127312e-03, -2.34849721e-02,\n",
       "         2.22349374e-04,  1.07175950e-02,  6.75125092e-02,\n",
       "        -2.32044102e-03,  2.33612450e-02, -6.11159264e-03,\n",
       "        -1.32029633e-01, -1.73493998e-02, -1.41005436e-02,\n",
       "        -1.60848891e-02,  7.81265671e-02, -6.24456799e-03,\n",
       "         1.12394529e-03, -2.36448759e-02, -3.11570158e-03,\n",
       "        -6.28628164e-02,  5.00461271e-03, -8.01795800e-03,\n",
       "        -4.57259501e-03,  1.52650413e-01, -3.86026250e-02,\n",
       "         1.07214626e-02, -3.09676408e-02,  1.00849001e-02,\n",
       "         6.08825217e-01, -4.90246416e-01, -3.19448764e-01,\n",
       "        -1.94417524e-01, -4.88018127e-01, -6.13803908e-02,\n",
       "         3.56031332e-01,  2.24029461e-01,  1.70587235e-01,\n",
       "         3.08890139e-01, -8.80657158e-02, -2.04932908e-02,\n",
       "        -7.88887644e-02, -2.99537113e-02,  1.81274919e-02,\n",
       "         1.88543578e-02, -1.94114124e-02, -1.87522792e-02,\n",
       "        -1.59263111e-01, -3.24948874e-02,  4.30874722e-02,\n",
       "         6.04402830e-02, -4.67874864e-02,  8.35965883e-02,\n",
       "        -1.62256797e-02,  1.58193782e-01,  3.97909955e-02]])"
      ]
     },
     "execution_count": 41,
     "metadata": {},
     "output_type": "execute_result"
    }
   ],
   "source": [
    "log.coef_"
   ]
  },
  {
   "cell_type": "code",
   "execution_count": 177,
   "metadata": {},
   "outputs": [
    {
     "data": {
      "text/plain": [
       "array([ 0.00064001,  0.02950802,  0.00031724,  0.31203001,  0.02546573,\n",
       "        0.00000075, -0.07407873,  0.22531258, -0.59100468, -0.92609569,\n",
       "        0.10326537,  1.26260115, -0.38124735,  0.40916348,  0.04177907,\n",
       "       -0.26340588,  0.19371067, -0.42871637,  0.42871637,  0.21548869,\n",
       "        0.27959343,  1.01725132, -0.77206083, -0.47322298, -0.04768504,\n",
       "       -0.60200453, -1.88466594,  0.73019517,  0.80576665,  0.507429  ,\n",
       "        0.87344275,  0.12451447,  0.17890016, -0.035214  , -0.00376112,\n",
       "        0.89655079,  0.68866294,  0.23793105,  0.245044  , -0.41663257,\n",
       "       -0.10903934, -0.1035255 , -0.00797818,  0.01868738, -0.05671004,\n",
       "       -1.78473365,  0.20879889,  0.04301917,  1.14778499,  0.53944993,\n",
       "       -0.47404861, -1.40784658,  0.56962509, -1.01433943, -0.01467631,\n",
       "       -0.31906337,  0.51217244,  0.70608502,  0.66263738, -0.62847695,\n",
       "       -0.01548843,  0.16180061, -0.20876262,  0.03402074,  0.09015102,\n",
       "       -0.24872401,  0.22762208,  0.61478852,  0.98943385,  0.22207776,\n",
       "        0.41246778, -0.33821611, -0.29612511, -0.37031001, -0.8743016 ,\n",
       "       -0.43434328,  0.50703988,  0.20926063,  0.21410917, -0.05639588,\n",
       "       -0.02212269, -0.94778609,  0.01342044, -0.31515886, -0.1366725 ,\n",
       "        0.42055196, -0.82653439,  0.71797108,  0.75032251,  0.06021963,\n",
       "        0.25213462,  0.42666562, -0.23697825, -0.06238169, -1.18998244,\n",
       "       -0.56195577,  1.77935304,  1.3897376 , -0.53500879, -1.0496372 ,\n",
       "       -0.64466746, -0.37782142, -9.18618534])"
      ]
     },
     "execution_count": 177,
     "metadata": {},
     "output_type": "execute_result"
    }
   ],
   "source": [
    "np.set_printoptions(suppress=True) \n",
    "model.w"
   ]
  },
  {
   "cell_type": "markdown",
   "metadata": {},
   "source": [
    "##### 相較之下，mylogistic_l2的accuracy更高，然而運行效率相當低"
   ]
  }
 ],
 "metadata": {
  "kernelspec": {
   "display_name": "Python 3",
   "language": "python",
   "name": "python3"
  },
  "language_info": {
   "codemirror_mode": {
    "name": "ipython",
    "version": 3
   },
   "file_extension": ".py",
   "mimetype": "text/x-python",
   "name": "python",
   "nbconvert_exporter": "python",
   "pygments_lexer": "ipython3",
   "version": "3.7.4"
  }
 },
 "nbformat": 4,
 "nbformat_minor": 4
}
